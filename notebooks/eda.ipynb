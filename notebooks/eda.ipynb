{
 "cells": [
  {
   "cell_type": "code",
   "execution_count": null,
   "id": "b035bc05",
   "metadata": {
    "vscode": {
     "languageId": "plaintext"
    }
   },
   "outputs": [],
   "source": [
    "import pandas as pd\n",
    "import matplotlib.pyplot as plt\n",
    "import seaborn as sns\n",
    "import missingno as msno\n",
    "\n",
    "WH = pd.read_csv(\"weatherHistory.csv\")  \n",
    "\n",
    "msno.matrix(WH)\n",
    "plt.show()\n",
    "\n",
    "print(WH.head())\n",
    "\n",
    "print(\"\\nNull values in each column:\")\n",
    "print(WH.isnull().sum())\n",
    "\n",
    "print(\"\\nDescriptive statistics:\")\n",
    "print(WH.describe())\n",
    "\n",
    "print(\"\\nData types in the dataset:\")\n",
    "print(WH.dtypes)\n",
    "\n",
    "\n",
    "WH['date'] = pd.to_datetime(WH['date'])\n",
    "WH['month'] = WH['date'].dt.month\n",
    "WH['weekday'] = WH['date'].dt.weekday\n",
    "WH['day'] = WH['date'].dt.day\n",
    "\n",
    "\n",
    "\n",
    "WH['avg_temp'].hist(bins=20)\n",
    "plt.title('Histogram of average temperature')\n",
    "plt.xlabel('Temperature')\n",
    "plt.ylabel('Days')\n",
    "plt.show()\n",
    "\n",
    "plt.figure(figsize=(10, 8))\n",
    "sns.heatmap(WH.corr(numeric_only=True), annot=True, cmap='coolwarm')\n",
    "plt.title('Correlationheatmap')\n",
    "plt.show()\n",
    "\n",
    "\n",
    "sns.scatterplot(data=WH, x='humidity', y='avg_temp')\n",
    "plt.title('Relationship between humidity and average temperature')\n",
    "plt.show()\n"
   ]
  }
 ],
 "metadata": {
  "language_info": {
   "name": "python"
  }
 },
 "nbformat": 4,
 "nbformat_minor": 5
}
